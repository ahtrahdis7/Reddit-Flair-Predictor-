{
 "cells": [
  {
   "cell_type": "markdown",
   "metadata": {},
   "source": [
    "<pre>\n",
    "This Notebook is concerned towards cleaning and organising the Flair and the concerned FlairColour features of the concerned dataset.</pre>"
   ]
  },
  {
   "cell_type": "code",
   "execution_count": 156,
   "metadata": {},
   "outputs": [
    {
     "data": {
      "text/html": [
       "<div>\n",
       "<style scoped>\n",
       "    .dataframe tbody tr th:only-of-type {\n",
       "        vertical-align: middle;\n",
       "    }\n",
       "\n",
       "    .dataframe tbody tr th {\n",
       "        vertical-align: top;\n",
       "    }\n",
       "\n",
       "    .dataframe thead th {\n",
       "        text-align: right;\n",
       "    }\n",
       "</style>\n",
       "<table border=\"1\" class=\"dataframe\">\n",
       "  <thead>\n",
       "    <tr style=\"text-align: right;\">\n",
       "      <th></th>\n",
       "      <th>Unnamed: 0</th>\n",
       "      <th>created_utc</th>\n",
       "      <th>flair</th>\n",
       "      <th>flair_colour</th>\n",
       "      <th>flair_text_colour</th>\n",
       "      <th>num_comments</th>\n",
       "      <th>score</th>\n",
       "      <th>text</th>\n",
       "    </tr>\n",
       "  </thead>\n",
       "  <tbody>\n",
       "    <tr>\n",
       "      <td>0</td>\n",
       "      <td>0</td>\n",
       "      <td>1.580498e+09</td>\n",
       "      <td>| Repost |</td>\n",
       "      <td>NaN</td>\n",
       "      <td>dark</td>\n",
       "      <td>1</td>\n",
       "      <td>0</td>\n",
       "      <td>Economic Survey sources data from Wikipedia, o...</td>\n",
       "    </tr>\n",
       "    <tr>\n",
       "      <td>1</td>\n",
       "      <td>1</td>\n",
       "      <td>1.580499e+09</td>\n",
       "      <td>| Low-effort Self Post |</td>\n",
       "      <td>NaN</td>\n",
       "      <td>dark</td>\n",
       "      <td>0</td>\n",
       "      <td>1</td>\n",
       "      <td>How do you explain \"vaali\" ?[removed]</td>\n",
       "    </tr>\n",
       "    <tr>\n",
       "      <td>2</td>\n",
       "      <td>2</td>\n",
       "      <td>1.580467e+09</td>\n",
       "      <td>Politics</td>\n",
       "      <td>#ddbd37</td>\n",
       "      <td>dark</td>\n",
       "      <td>12</td>\n",
       "      <td>140</td>\n",
       "      <td>Despite Jamia Shooting, Amit Shah's Divisive R...</td>\n",
       "    </tr>\n",
       "    <tr>\n",
       "      <td>3</td>\n",
       "      <td>3</td>\n",
       "      <td>1.580480e+09</td>\n",
       "      <td>CAA-NRC</td>\n",
       "      <td>NaN</td>\n",
       "      <td>dark</td>\n",
       "      <td>16</td>\n",
       "      <td>8</td>\n",
       "      <td>Youth of India: Voices of Reason or Pawns[remo...</td>\n",
       "    </tr>\n",
       "    <tr>\n",
       "      <td>4</td>\n",
       "      <td>4</td>\n",
       "      <td>1.580486e+09</td>\n",
       "      <td>Non-Political</td>\n",
       "      <td>#5093d6</td>\n",
       "      <td>dark</td>\n",
       "      <td>6</td>\n",
       "      <td>13</td>\n",
       "      <td>Indian Student Variety AbroadSo, I am kinda fe...</td>\n",
       "    </tr>\n",
       "  </tbody>\n",
       "</table>\n",
       "</div>"
      ],
      "text/plain": [
       "   Unnamed: 0   created_utc                     flair flair_colour  \\\n",
       "0           0  1.580498e+09                | Repost |          NaN   \n",
       "1           1  1.580499e+09  | Low-effort Self Post |          NaN   \n",
       "2           2  1.580467e+09                  Politics      #ddbd37   \n",
       "3           3  1.580480e+09                   CAA-NRC          NaN   \n",
       "4           4  1.580486e+09             Non-Political      #5093d6   \n",
       "\n",
       "  flair_text_colour  num_comments  score  \\\n",
       "0              dark             1      0   \n",
       "1              dark             0      1   \n",
       "2              dark            12    140   \n",
       "3              dark            16      8   \n",
       "4              dark             6     13   \n",
       "\n",
       "                                                text  \n",
       "0  Economic Survey sources data from Wikipedia, o...  \n",
       "1              How do you explain \"vaali\" ?[removed]  \n",
       "2  Despite Jamia Shooting, Amit Shah's Divisive R...  \n",
       "3  Youth of India: Voices of Reason or Pawns[remo...  \n",
       "4  Indian Student Variety AbroadSo, I am kinda fe...  "
      ]
     },
     "execution_count": 156,
     "metadata": {},
     "output_type": "execute_result"
    }
   ],
   "source": [
    "import pandas as pd\n",
    "import numpy as np\n",
    "\n",
    "Df = pd.read_csv(\"NEW_DATA/MERGED_DATA.csv\")\n",
    "\n",
    "Df.head()"
   ]
  },
  {
   "cell_type": "code",
   "execution_count": 157,
   "metadata": {},
   "outputs": [],
   "source": [
    "Df['flair'].fillna('Unverified', inplace = True)\n",
    "Df['flair_colour'].fillna('#ea0027', inplace = True)"
   ]
  },
  {
   "cell_type": "code",
   "execution_count": 158,
   "metadata": {},
   "outputs": [],
   "source": [
    "f_counts = Df['flair'].value_counts()\n",
    "f_values = Df['flair'].unique()\n",
    "fc_counts = Df['flair_colour'].value_counts()"
   ]
  },
  {
   "cell_type": "code",
   "execution_count": 159,
   "metadata": {},
   "outputs": [
    {
     "data": {
      "text/plain": [
       "#ea0027    25134\n",
       "#ddbd37     9091\n",
       "#5093d6     8308\n",
       "#ab494b     6100\n",
       "#ffb000     3611\n",
       "#014980     1483\n",
       "#304ffe      901\n",
       "#ffbbda      551\n",
       "#b8001f      451\n",
       "#cc5289      217\n",
       "#5a74cc        9\n",
       "#ff4500        7\n",
       "Name: flair_colour, dtype: int64"
      ]
     },
     "execution_count": 159,
     "metadata": {},
     "output_type": "execute_result"
    }
   ],
   "source": [
    "fc_counts"
   ]
  },
  {
   "cell_type": "code",
   "execution_count": 160,
   "metadata": {},
   "outputs": [
    {
     "data": {
      "text/html": [
       "<div>\n",
       "<style scoped>\n",
       "    .dataframe tbody tr th:only-of-type {\n",
       "        vertical-align: middle;\n",
       "    }\n",
       "\n",
       "    .dataframe tbody tr th {\n",
       "        vertical-align: top;\n",
       "    }\n",
       "\n",
       "    .dataframe thead th {\n",
       "        text-align: right;\n",
       "    }\n",
       "</style>\n",
       "<table border=\"1\" class=\"dataframe\">\n",
       "  <thead>\n",
       "    <tr style=\"text-align: right;\">\n",
       "      <th></th>\n",
       "      <th>Unnamed: 0</th>\n",
       "      <th>created_utc</th>\n",
       "      <th>flair</th>\n",
       "      <th>flair_colour</th>\n",
       "      <th>flair_text_colour</th>\n",
       "      <th>num_comments</th>\n",
       "      <th>score</th>\n",
       "      <th>text</th>\n",
       "    </tr>\n",
       "  </thead>\n",
       "  <tbody>\n",
       "    <tr>\n",
       "      <td>2</td>\n",
       "      <td>2</td>\n",
       "      <td>1.580467e+09</td>\n",
       "      <td>Politics</td>\n",
       "      <td>#ddbd37</td>\n",
       "      <td>dark</td>\n",
       "      <td>12</td>\n",
       "      <td>140</td>\n",
       "      <td>Despite Jamia Shooting, Amit Shah's Divisive R...</td>\n",
       "    </tr>\n",
       "  </tbody>\n",
       "</table>\n",
       "</div>"
      ],
      "text/plain": [
       "   Unnamed: 0   created_utc     flair flair_colour flair_text_colour  \\\n",
       "2           2  1.580467e+09  Politics      #ddbd37              dark   \n",
       "\n",
       "   num_comments  score                                               text  \n",
       "2            12    140  Despite Jamia Shooting, Amit Shah's Divisive R...  "
      ]
     },
     "execution_count": 160,
     "metadata": {},
     "output_type": "execute_result"
    }
   ],
   "source": [
    "Df[Df['flair'] == 'Politics'].head(1)"
   ]
  },
  {
   "cell_type": "code",
   "execution_count": 161,
   "metadata": {},
   "outputs": [
    {
     "data": {
      "text/html": [
       "<div>\n",
       "<style scoped>\n",
       "    .dataframe tbody tr th:only-of-type {\n",
       "        vertical-align: middle;\n",
       "    }\n",
       "\n",
       "    .dataframe tbody tr th {\n",
       "        vertical-align: top;\n",
       "    }\n",
       "\n",
       "    .dataframe thead th {\n",
       "        text-align: right;\n",
       "    }\n",
       "</style>\n",
       "<table border=\"1\" class=\"dataframe\">\n",
       "  <thead>\n",
       "    <tr style=\"text-align: right;\">\n",
       "      <th></th>\n",
       "      <th>Unnamed: 0</th>\n",
       "      <th>created_utc</th>\n",
       "      <th>flair</th>\n",
       "      <th>flair_colour</th>\n",
       "      <th>flair_text_colour</th>\n",
       "      <th>num_comments</th>\n",
       "      <th>score</th>\n",
       "      <th>text</th>\n",
       "    </tr>\n",
       "  </thead>\n",
       "  <tbody>\n",
       "    <tr>\n",
       "      <td>4</td>\n",
       "      <td>4</td>\n",
       "      <td>1.580486e+09</td>\n",
       "      <td>Non-Political</td>\n",
       "      <td>#5093d6</td>\n",
       "      <td>dark</td>\n",
       "      <td>6</td>\n",
       "      <td>13</td>\n",
       "      <td>Indian Student Variety AbroadSo, I am kinda fe...</td>\n",
       "    </tr>\n",
       "  </tbody>\n",
       "</table>\n",
       "</div>"
      ],
      "text/plain": [
       "   Unnamed: 0   created_utc          flair flair_colour flair_text_colour  \\\n",
       "4           4  1.580486e+09  Non-Political      #5093d6              dark   \n",
       "\n",
       "   num_comments  score                                               text  \n",
       "4             6     13  Indian Student Variety AbroadSo, I am kinda fe...  "
      ]
     },
     "execution_count": 161,
     "metadata": {},
     "output_type": "execute_result"
    }
   ],
   "source": [
    "Df[Df['flair_colour'] == '#5093d6'].head(1)"
   ]
  },
  {
   "cell_type": "code",
   "execution_count": 162,
   "metadata": {},
   "outputs": [
    {
     "data": {
      "text/html": [
       "<div>\n",
       "<style scoped>\n",
       "    .dataframe tbody tr th:only-of-type {\n",
       "        vertical-align: middle;\n",
       "    }\n",
       "\n",
       "    .dataframe tbody tr th {\n",
       "        vertical-align: top;\n",
       "    }\n",
       "\n",
       "    .dataframe thead th {\n",
       "        text-align: right;\n",
       "    }\n",
       "</style>\n",
       "<table border=\"1\" class=\"dataframe\">\n",
       "  <thead>\n",
       "    <tr style=\"text-align: right;\">\n",
       "      <th></th>\n",
       "      <th>Unnamed: 0</th>\n",
       "      <th>created_utc</th>\n",
       "      <th>flair</th>\n",
       "      <th>flair_colour</th>\n",
       "      <th>flair_text_colour</th>\n",
       "      <th>num_comments</th>\n",
       "      <th>score</th>\n",
       "      <th>text</th>\n",
       "    </tr>\n",
       "  </thead>\n",
       "  <tbody>\n",
       "    <tr>\n",
       "      <td>12</td>\n",
       "      <td>12</td>\n",
       "      <td>1.580465e+09</td>\n",
       "      <td>AskIndia</td>\n",
       "      <td>#ab494b</td>\n",
       "      <td>light</td>\n",
       "      <td>9</td>\n",
       "      <td>0</td>\n",
       "      <td>If Islam is alike all other religion and not a...</td>\n",
       "    </tr>\n",
       "  </tbody>\n",
       "</table>\n",
       "</div>"
      ],
      "text/plain": [
       "    Unnamed: 0   created_utc     flair flair_colour flair_text_colour  \\\n",
       "12          12  1.580465e+09  AskIndia      #ab494b             light   \n",
       "\n",
       "    num_comments  score                                               text  \n",
       "12             9      0  If Islam is alike all other religion and not a...  "
      ]
     },
     "execution_count": 162,
     "metadata": {},
     "output_type": "execute_result"
    }
   ],
   "source": [
    "Df[Df['flair_colour'] == '#ab494b'].head(1)"
   ]
  },
  {
   "cell_type": "code",
   "execution_count": 163,
   "metadata": {},
   "outputs": [
    {
     "data": {
      "text/html": [
       "<div>\n",
       "<style scoped>\n",
       "    .dataframe tbody tr th:only-of-type {\n",
       "        vertical-align: middle;\n",
       "    }\n",
       "\n",
       "    .dataframe tbody tr th {\n",
       "        vertical-align: top;\n",
       "    }\n",
       "\n",
       "    .dataframe thead th {\n",
       "        text-align: right;\n",
       "    }\n",
       "</style>\n",
       "<table border=\"1\" class=\"dataframe\">\n",
       "  <thead>\n",
       "    <tr style=\"text-align: right;\">\n",
       "      <th></th>\n",
       "      <th>Unnamed: 0</th>\n",
       "      <th>created_utc</th>\n",
       "      <th>flair</th>\n",
       "      <th>flair_colour</th>\n",
       "      <th>flair_text_colour</th>\n",
       "      <th>num_comments</th>\n",
       "      <th>score</th>\n",
       "      <th>text</th>\n",
       "    </tr>\n",
       "  </thead>\n",
       "  <tbody>\n",
       "    <tr>\n",
       "      <td>7</td>\n",
       "      <td>7</td>\n",
       "      <td>1.580460e+09</td>\n",
       "      <td>Business/Finance</td>\n",
       "      <td>#ffb000</td>\n",
       "      <td>dark</td>\n",
       "      <td>0</td>\n",
       "      <td>1</td>\n",
       "      <td>wickedweirdo.com is on sale</td>\n",
       "    </tr>\n",
       "  </tbody>\n",
       "</table>\n",
       "</div>"
      ],
      "text/plain": [
       "   Unnamed: 0   created_utc             flair flair_colour flair_text_colour  \\\n",
       "7           7  1.580460e+09  Business/Finance      #ffb000              dark   \n",
       "\n",
       "   num_comments  score                         text  \n",
       "7             0      1  wickedweirdo.com is on sale  "
      ]
     },
     "execution_count": 163,
     "metadata": {},
     "output_type": "execute_result"
    }
   ],
   "source": [
    "Df[Df['flair_colour'] == '#ffb000'].head(1)"
   ]
  },
  {
   "cell_type": "code",
   "execution_count": 164,
   "metadata": {},
   "outputs": [
    {
     "data": {
      "text/html": [
       "<div>\n",
       "<style scoped>\n",
       "    .dataframe tbody tr th:only-of-type {\n",
       "        vertical-align: middle;\n",
       "    }\n",
       "\n",
       "    .dataframe tbody tr th {\n",
       "        vertical-align: top;\n",
       "    }\n",
       "\n",
       "    .dataframe thead th {\n",
       "        text-align: right;\n",
       "    }\n",
       "</style>\n",
       "<table border=\"1\" class=\"dataframe\">\n",
       "  <thead>\n",
       "    <tr style=\"text-align: right;\">\n",
       "      <th></th>\n",
       "      <th>Unnamed: 0</th>\n",
       "      <th>created_utc</th>\n",
       "      <th>flair</th>\n",
       "      <th>flair_colour</th>\n",
       "      <th>flair_text_colour</th>\n",
       "      <th>num_comments</th>\n",
       "      <th>score</th>\n",
       "      <th>text</th>\n",
       "    </tr>\n",
       "  </thead>\n",
       "  <tbody>\n",
       "    <tr>\n",
       "      <td>9</td>\n",
       "      <td>9</td>\n",
       "      <td>1.580463e+09</td>\n",
       "      <td>Science/Technology</td>\n",
       "      <td>#014980</td>\n",
       "      <td>light</td>\n",
       "      <td>0</td>\n",
       "      <td>1</td>\n",
       "      <td>How to FIX Tripod Ball Head issue in Urdu/Hindi</td>\n",
       "    </tr>\n",
       "  </tbody>\n",
       "</table>\n",
       "</div>"
      ],
      "text/plain": [
       "   Unnamed: 0   created_utc               flair flair_colour  \\\n",
       "9           9  1.580463e+09  Science/Technology      #014980   \n",
       "\n",
       "  flair_text_colour  num_comments  score  \\\n",
       "9             light             0      1   \n",
       "\n",
       "                                              text  \n",
       "9  How to FIX Tripod Ball Head issue in Urdu/Hindi  "
      ]
     },
     "execution_count": 164,
     "metadata": {},
     "output_type": "execute_result"
    }
   ],
   "source": [
    "Df[Df['flair_colour'] == '#014980'].head(1)"
   ]
  },
  {
   "cell_type": "code",
   "execution_count": 165,
   "metadata": {},
   "outputs": [
    {
     "data": {
      "text/html": [
       "<div>\n",
       "<style scoped>\n",
       "    .dataframe tbody tr th:only-of-type {\n",
       "        vertical-align: middle;\n",
       "    }\n",
       "\n",
       "    .dataframe tbody tr th {\n",
       "        vertical-align: top;\n",
       "    }\n",
       "\n",
       "    .dataframe thead th {\n",
       "        text-align: right;\n",
       "    }\n",
       "</style>\n",
       "<table border=\"1\" class=\"dataframe\">\n",
       "  <thead>\n",
       "    <tr style=\"text-align: right;\">\n",
       "      <th></th>\n",
       "      <th>Unnamed: 0</th>\n",
       "      <th>created_utc</th>\n",
       "      <th>flair</th>\n",
       "      <th>flair_colour</th>\n",
       "      <th>flair_text_colour</th>\n",
       "      <th>num_comments</th>\n",
       "      <th>score</th>\n",
       "      <th>text</th>\n",
       "    </tr>\n",
       "  </thead>\n",
       "  <tbody>\n",
       "    <tr>\n",
       "      <td>31</td>\n",
       "      <td>31</td>\n",
       "      <td>1.580494e+09</td>\n",
       "      <td>Photography</td>\n",
       "      <td>#304ffe</td>\n",
       "      <td>light</td>\n",
       "      <td>0</td>\n",
       "      <td>1</td>\n",
       "      <td>Mark Dohner new song!</td>\n",
       "    </tr>\n",
       "  </tbody>\n",
       "</table>\n",
       "</div>"
      ],
      "text/plain": [
       "    Unnamed: 0   created_utc        flair flair_colour flair_text_colour  \\\n",
       "31          31  1.580494e+09  Photography      #304ffe             light   \n",
       "\n",
       "    num_comments  score                   text  \n",
       "31             0      1  Mark Dohner new song!  "
      ]
     },
     "execution_count": 165,
     "metadata": {},
     "output_type": "execute_result"
    }
   ],
   "source": [
    "Df[Df['flair_colour'] == '#304ffe'].head(1)"
   ]
  },
  {
   "cell_type": "code",
   "execution_count": 166,
   "metadata": {},
   "outputs": [
    {
     "data": {
      "text/html": [
       "<div>\n",
       "<style scoped>\n",
       "    .dataframe tbody tr th:only-of-type {\n",
       "        vertical-align: middle;\n",
       "    }\n",
       "\n",
       "    .dataframe tbody tr th {\n",
       "        vertical-align: top;\n",
       "    }\n",
       "\n",
       "    .dataframe thead th {\n",
       "        text-align: right;\n",
       "    }\n",
       "</style>\n",
       "<table border=\"1\" class=\"dataframe\">\n",
       "  <thead>\n",
       "    <tr style=\"text-align: right;\">\n",
       "      <th></th>\n",
       "      <th>Unnamed: 0</th>\n",
       "      <th>created_utc</th>\n",
       "      <th>flair</th>\n",
       "      <th>flair_colour</th>\n",
       "      <th>flair_text_colour</th>\n",
       "      <th>num_comments</th>\n",
       "      <th>score</th>\n",
       "      <th>text</th>\n",
       "    </tr>\n",
       "  </thead>\n",
       "  <tbody>\n",
       "    <tr>\n",
       "      <td>119</td>\n",
       "      <td>119</td>\n",
       "      <td>1.580465e+09</td>\n",
       "      <td>Sports</td>\n",
       "      <td>#ffbbda</td>\n",
       "      <td>dark</td>\n",
       "      <td>0</td>\n",
       "      <td>1</td>\n",
       "      <td>How Did Cricket Start In India?</td>\n",
       "    </tr>\n",
       "  </tbody>\n",
       "</table>\n",
       "</div>"
      ],
      "text/plain": [
       "     Unnamed: 0   created_utc   flair flair_colour flair_text_colour  \\\n",
       "119         119  1.580465e+09  Sports      #ffbbda              dark   \n",
       "\n",
       "     num_comments  score                             text  \n",
       "119             0      1  How Did Cricket Start In India?  "
      ]
     },
     "execution_count": 166,
     "metadata": {},
     "output_type": "execute_result"
    }
   ],
   "source": [
    "Df[Df['flair_colour'] == '#ffbbda'].head(1)"
   ]
  },
  {
   "cell_type": "code",
   "execution_count": 167,
   "metadata": {},
   "outputs": [
    {
     "data": {
      "text/html": [
       "<div>\n",
       "<style scoped>\n",
       "    .dataframe tbody tr th:only-of-type {\n",
       "        vertical-align: middle;\n",
       "    }\n",
       "\n",
       "    .dataframe tbody tr th {\n",
       "        vertical-align: top;\n",
       "    }\n",
       "\n",
       "    .dataframe thead th {\n",
       "        text-align: right;\n",
       "    }\n",
       "</style>\n",
       "<table border=\"1\" class=\"dataframe\">\n",
       "  <thead>\n",
       "    <tr style=\"text-align: right;\">\n",
       "      <th></th>\n",
       "      <th>Unnamed: 0</th>\n",
       "      <th>created_utc</th>\n",
       "      <th>flair</th>\n",
       "      <th>flair_colour</th>\n",
       "      <th>flair_text_colour</th>\n",
       "      <th>num_comments</th>\n",
       "      <th>score</th>\n",
       "      <th>text</th>\n",
       "    </tr>\n",
       "  </thead>\n",
       "  <tbody>\n",
       "    <tr>\n",
       "      <td>348</td>\n",
       "      <td>348</td>\n",
       "      <td>1.580433e+09</td>\n",
       "      <td>Food</td>\n",
       "      <td>#b8001f</td>\n",
       "      <td>light</td>\n",
       "      <td>0</td>\n",
       "      <td>1</td>\n",
       "      <td>Bitter Gourd Fried Salad - Village Food Prepar...</td>\n",
       "    </tr>\n",
       "  </tbody>\n",
       "</table>\n",
       "</div>"
      ],
      "text/plain": [
       "     Unnamed: 0   created_utc flair flair_colour flair_text_colour  \\\n",
       "348         348  1.580433e+09  Food      #b8001f             light   \n",
       "\n",
       "     num_comments  score                                               text  \n",
       "348             0      1  Bitter Gourd Fried Salad - Village Food Prepar...  "
      ]
     },
     "execution_count": 167,
     "metadata": {},
     "output_type": "execute_result"
    }
   ],
   "source": [
    "Df[Df['flair_colour'] == '#b8001f'].head(1)"
   ]
  },
  {
   "cell_type": "code",
   "execution_count": 168,
   "metadata": {},
   "outputs": [
    {
     "data": {
      "text/html": [
       "<div>\n",
       "<style scoped>\n",
       "    .dataframe tbody tr th:only-of-type {\n",
       "        vertical-align: middle;\n",
       "    }\n",
       "\n",
       "    .dataframe tbody tr th {\n",
       "        vertical-align: top;\n",
       "    }\n",
       "\n",
       "    .dataframe thead th {\n",
       "        text-align: right;\n",
       "    }\n",
       "</style>\n",
       "<table border=\"1\" class=\"dataframe\">\n",
       "  <thead>\n",
       "    <tr style=\"text-align: right;\">\n",
       "      <th></th>\n",
       "      <th>Unnamed: 0</th>\n",
       "      <th>created_utc</th>\n",
       "      <th>flair</th>\n",
       "      <th>flair_colour</th>\n",
       "      <th>flair_text_colour</th>\n",
       "      <th>num_comments</th>\n",
       "      <th>score</th>\n",
       "      <th>text</th>\n",
       "    </tr>\n",
       "  </thead>\n",
       "  <tbody>\n",
       "    <tr>\n",
       "      <td>602</td>\n",
       "      <td>602</td>\n",
       "      <td>1.580386e+09</td>\n",
       "      <td>Scheduled</td>\n",
       "      <td>#cc5289</td>\n",
       "      <td>light</td>\n",
       "      <td>0</td>\n",
       "      <td>1</td>\n",
       "      <td>Mndfull(mess)[deleted]</td>\n",
       "    </tr>\n",
       "  </tbody>\n",
       "</table>\n",
       "</div>"
      ],
      "text/plain": [
       "     Unnamed: 0   created_utc      flair flair_colour flair_text_colour  \\\n",
       "602         602  1.580386e+09  Scheduled      #cc5289             light   \n",
       "\n",
       "     num_comments  score                    text  \n",
       "602             0      1  Mndfull(mess)[deleted]  "
      ]
     },
     "execution_count": 168,
     "metadata": {},
     "output_type": "execute_result"
    }
   ],
   "source": [
    "Df[Df['flair_colour'] == '#cc5289'].head(1)"
   ]
  },
  {
   "cell_type": "code",
   "execution_count": 169,
   "metadata": {},
   "outputs": [],
   "source": [
    "df_list = Df.values.tolist()"
   ]
  },
  {
   "cell_type": "code",
   "execution_count": 170,
   "metadata": {},
   "outputs": [],
   "source": [
    "for row in df_list:\n",
    "    if(f_counts[row[2]] < 300):\n",
    "        row[2] = \"Unverified\"\n",
    "    if(row[2] == '| Not specific to India |'):\n",
    "        row[2] = \"Unverified\"\n",
    "    if(row[2] == '| Unverified Content / Disreputed Source |'):\n",
    "        row[2] = \"Unverified\"\n",
    "    if(row[2] == '| Personal/Unverified Social Media |'):\n",
    "        row[2] = \"Unverified\"\n",
    "    if(row[2] == '| Not in English |'):\n",
    "        row[2] = \"Unverified\"\n",
    "    if(row[2] == '| Low-effort Self Post |'):\n",
    "        row[2] = \"Unverified\"\n",
    "    if(row[2] == '| Not Original/Relevant Title |'):\n",
    "        row[2] = \"Unverified\"\n",
    "    \n",
    "    if(row[2] == 'Politics'):\n",
    "        row[3] = \"#ddbd37\"\n",
    "    if(row[2] == 'Non-Political'):\n",
    "        row[3] = \"#5093d6\"\n",
    "    if(row[2] == 'Scheduled'):\n",
    "        row[3] = \"#cc5289\"\n",
    "    if(row[2] == 'Food'):\n",
    "        row[3] = \"#b8001f\"\n",
    "    if(row[2] == 'Sports'):\n",
    "        row[3] = \"#ffbbda\"\n",
    "    if(row[2] == 'Photography'):\n",
    "        row[3] = \"#304ffe\"\n",
    "    if(row[2] == 'Science/Technology'):\n",
    "        row[3] = \"#014980\"\n",
    "    if(row[2] == 'Business/Finance'):\n",
    "        row[3] = \"#ffb000\"\n",
    "    if(row[2] == 'AskIndia'):\n",
    "        row[3] = \"#ab494b\"\n",
    "#     if(row[2] == 'CAA-NRC'):\n",
    "#         row[3] = \"#ab491b\"\n",
    "#     if(row[2] == '| Repost |'):\n",
    "#         row[3] = \"#ab492b\"\n",
    "#     if(row[2] == '| Social Media Rules |'):\n",
    "#         row[3] = \"#ab492b\"\n",
    "#     if(row[2] == 'Policy/Economy'):\n",
    "#         row[3] = \"#ab474b\"\n",
    "#     if(row[2] == 'Coronavirus'):\n",
    "#         row[3] = \"#ab484b\"\n",
    "#     if(row[2] == 'Low Quality/Non OC Meme'):\n",
    "#         row[3] = \"#ac484b\"\n",
    "#     if(row[2] == 'All CAPS.'):\n",
    "#         row[3] = \"#ab484f\"\n",
    "#     if(row[2] == 'Unverified'):\n",
    "#         row[3] = \"#ea0027\"\n",
    "#     to update the respective colours for specific posts\n",
    "    \n",
    "#     print(row[2])"
   ]
  },
  {
   "cell_type": "code",
   "execution_count": 171,
   "metadata": {},
   "outputs": [],
   "source": [
    "NewDF = pd.DataFrame(df_list, columns = ['Unnamed: 0', 'created_utc', 'flair', 'flair_colour',\n",
    "       'flair_text_colour', 'num_comments', 'score', 'text'])"
   ]
  },
  {
   "cell_type": "code",
   "execution_count": 172,
   "metadata": {},
   "outputs": [
    {
     "data": {
      "text/html": [
       "<div>\n",
       "<style scoped>\n",
       "    .dataframe tbody tr th:only-of-type {\n",
       "        vertical-align: middle;\n",
       "    }\n",
       "\n",
       "    .dataframe tbody tr th {\n",
       "        vertical-align: top;\n",
       "    }\n",
       "\n",
       "    .dataframe thead th {\n",
       "        text-align: right;\n",
       "    }\n",
       "</style>\n",
       "<table border=\"1\" class=\"dataframe\">\n",
       "  <thead>\n",
       "    <tr style=\"text-align: right;\">\n",
       "      <th></th>\n",
       "      <th>Unnamed: 0</th>\n",
       "      <th>created_utc</th>\n",
       "      <th>flair</th>\n",
       "      <th>flair_colour</th>\n",
       "      <th>flair_text_colour</th>\n",
       "      <th>num_comments</th>\n",
       "      <th>score</th>\n",
       "      <th>text</th>\n",
       "    </tr>\n",
       "  </thead>\n",
       "  <tbody>\n",
       "    <tr>\n",
       "      <td>0</td>\n",
       "      <td>0</td>\n",
       "      <td>1.580498e+09</td>\n",
       "      <td>| Repost |</td>\n",
       "      <td>#ea0027</td>\n",
       "      <td>dark</td>\n",
       "      <td>1</td>\n",
       "      <td>0</td>\n",
       "      <td>Economic Survey sources data from Wikipedia, o...</td>\n",
       "    </tr>\n",
       "    <tr>\n",
       "      <td>1</td>\n",
       "      <td>1</td>\n",
       "      <td>1.580499e+09</td>\n",
       "      <td>Unverified</td>\n",
       "      <td>#ea0027</td>\n",
       "      <td>dark</td>\n",
       "      <td>0</td>\n",
       "      <td>1</td>\n",
       "      <td>How do you explain \"vaali\" ?[removed]</td>\n",
       "    </tr>\n",
       "    <tr>\n",
       "      <td>2</td>\n",
       "      <td>2</td>\n",
       "      <td>1.580467e+09</td>\n",
       "      <td>Politics</td>\n",
       "      <td>#ddbd37</td>\n",
       "      <td>dark</td>\n",
       "      <td>12</td>\n",
       "      <td>140</td>\n",
       "      <td>Despite Jamia Shooting, Amit Shah's Divisive R...</td>\n",
       "    </tr>\n",
       "    <tr>\n",
       "      <td>3</td>\n",
       "      <td>3</td>\n",
       "      <td>1.580480e+09</td>\n",
       "      <td>CAA-NRC</td>\n",
       "      <td>#ea0027</td>\n",
       "      <td>dark</td>\n",
       "      <td>16</td>\n",
       "      <td>8</td>\n",
       "      <td>Youth of India: Voices of Reason or Pawns[remo...</td>\n",
       "    </tr>\n",
       "    <tr>\n",
       "      <td>4</td>\n",
       "      <td>4</td>\n",
       "      <td>1.580486e+09</td>\n",
       "      <td>Non-Political</td>\n",
       "      <td>#5093d6</td>\n",
       "      <td>dark</td>\n",
       "      <td>6</td>\n",
       "      <td>13</td>\n",
       "      <td>Indian Student Variety AbroadSo, I am kinda fe...</td>\n",
       "    </tr>\n",
       "  </tbody>\n",
       "</table>\n",
       "</div>"
      ],
      "text/plain": [
       "   Unnamed: 0   created_utc          flair flair_colour flair_text_colour  \\\n",
       "0           0  1.580498e+09     | Repost |      #ea0027              dark   \n",
       "1           1  1.580499e+09     Unverified      #ea0027              dark   \n",
       "2           2  1.580467e+09       Politics      #ddbd37              dark   \n",
       "3           3  1.580480e+09        CAA-NRC      #ea0027              dark   \n",
       "4           4  1.580486e+09  Non-Political      #5093d6              dark   \n",
       "\n",
       "   num_comments  score                                               text  \n",
       "0             1      0  Economic Survey sources data from Wikipedia, o...  \n",
       "1             0      1              How do you explain \"vaali\" ?[removed]  \n",
       "2            12    140  Despite Jamia Shooting, Amit Shah's Divisive R...  \n",
       "3            16      8  Youth of India: Voices of Reason or Pawns[remo...  \n",
       "4             6     13  Indian Student Variety AbroadSo, I am kinda fe...  "
      ]
     },
     "execution_count": 172,
     "metadata": {},
     "output_type": "execute_result"
    }
   ],
   "source": [
    "NewDF.head()"
   ]
  },
  {
   "cell_type": "code",
   "execution_count": 173,
   "metadata": {},
   "outputs": [],
   "source": [
    "NewDF = NewDF.drop('Unnamed: 0', axis = 1)"
   ]
  },
  {
   "cell_type": "code",
   "execution_count": 174,
   "metadata": {},
   "outputs": [
    {
     "data": {
      "text/plain": [
       "Unverified                 16098\n",
       "Politics                   10438\n",
       "Non-Political               8362\n",
       "AskIndia                    6111\n",
       "Coronavirus                 3968\n",
       "Policy/Economy              1985\n",
       "Business/Finance            1736\n",
       "Science/Technology          1482\n",
       "| Repost |                  1305\n",
       "Photography                  900\n",
       "CAA-NRC                      756\n",
       "Sports                       550\n",
       "Low Quality/Non OC Meme      541\n",
       "Food                         451\n",
       "Scheduled                    417\n",
       "All CAPS.                    395\n",
       "| Social Media Rules |       368\n",
       "Name: flair, dtype: int64"
      ]
     },
     "execution_count": 174,
     "metadata": {},
     "output_type": "execute_result"
    }
   ],
   "source": [
    "NewDF['flair'].value_counts()"
   ]
  },
  {
   "cell_type": "code",
   "execution_count": 175,
   "metadata": {},
   "outputs": [
    {
     "data": {
      "text/plain": [
       "#ea0027    23485\n",
       "#ddbd37    10449\n",
       "#5093d6     8375\n",
       "#ab494b     6121\n",
       "#ffb000     3611\n",
       "#014980     1483\n",
       "#304ffe      901\n",
       "#ffbbda      551\n",
       "#b8001f      451\n",
       "#cc5289      420\n",
       "#5a74cc        9\n",
       "#ff4500        7\n",
       "Name: flair_colour, dtype: int64"
      ]
     },
     "execution_count": 175,
     "metadata": {},
     "output_type": "execute_result"
    }
   ],
   "source": [
    "NewDF['flair_colour'].value_counts()"
   ]
  },
  {
   "cell_type": "code",
   "execution_count": null,
   "metadata": {},
   "outputs": [],
   "source": []
  }
 ],
 "metadata": {
  "kernelspec": {
   "display_name": "Python 3",
   "language": "python",
   "name": "python3"
  },
  "language_info": {
   "codemirror_mode": {
    "name": "ipython",
    "version": 3
   },
   "file_extension": ".py",
   "mimetype": "text/x-python",
   "name": "python",
   "nbconvert_exporter": "python",
   "pygments_lexer": "ipython3",
   "version": "3.7.4"
  }
 },
 "nbformat": 4,
 "nbformat_minor": 2
}
