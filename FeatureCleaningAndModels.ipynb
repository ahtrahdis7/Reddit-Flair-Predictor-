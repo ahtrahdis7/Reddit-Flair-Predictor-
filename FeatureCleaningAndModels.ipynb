{
 "cells": [
  {
   "cell_type": "code",
   "execution_count": 1,
   "metadata": {},
   "outputs": [],
   "source": [
    "import pandas as pd"
   ]
  },
  {
   "cell_type": "code",
   "execution_count": 2,
   "metadata": {},
   "outputs": [],
   "source": [
    "data = pd.read_csv('NEW_DATA/MERGED_DATA.csv')"
   ]
  },
  {
   "cell_type": "code",
   "execution_count": 3,
   "metadata": {},
   "outputs": [
    {
     "data": {
      "text/html": [
       "<div>\n",
       "<style scoped>\n",
       "    .dataframe tbody tr th:only-of-type {\n",
       "        vertical-align: middle;\n",
       "    }\n",
       "\n",
       "    .dataframe tbody tr th {\n",
       "        vertical-align: top;\n",
       "    }\n",
       "\n",
       "    .dataframe thead th {\n",
       "        text-align: right;\n",
       "    }\n",
       "</style>\n",
       "<table border=\"1\" class=\"dataframe\">\n",
       "  <thead>\n",
       "    <tr style=\"text-align: right;\">\n",
       "      <th></th>\n",
       "      <th>Unnamed: 0</th>\n",
       "      <th>created_utc</th>\n",
       "      <th>flair</th>\n",
       "      <th>flair_colour</th>\n",
       "      <th>flair_text_colour</th>\n",
       "      <th>num_comments</th>\n",
       "      <th>score</th>\n",
       "      <th>text</th>\n",
       "    </tr>\n",
       "  </thead>\n",
       "  <tbody>\n",
       "    <tr>\n",
       "      <td>0</td>\n",
       "      <td>0</td>\n",
       "      <td>1.580498e+09</td>\n",
       "      <td>| Repost |</td>\n",
       "      <td>NaN</td>\n",
       "      <td>dark</td>\n",
       "      <td>1</td>\n",
       "      <td>0</td>\n",
       "      <td>Economic Survey sources data from Wikipedia, o...</td>\n",
       "    </tr>\n",
       "    <tr>\n",
       "      <td>1</td>\n",
       "      <td>1</td>\n",
       "      <td>1.580499e+09</td>\n",
       "      <td>| Low-effort Self Post |</td>\n",
       "      <td>NaN</td>\n",
       "      <td>dark</td>\n",
       "      <td>0</td>\n",
       "      <td>1</td>\n",
       "      <td>How do you explain \"vaali\" ?[removed]</td>\n",
       "    </tr>\n",
       "    <tr>\n",
       "      <td>2</td>\n",
       "      <td>2</td>\n",
       "      <td>1.580467e+09</td>\n",
       "      <td>Politics</td>\n",
       "      <td>#ddbd37</td>\n",
       "      <td>dark</td>\n",
       "      <td>12</td>\n",
       "      <td>140</td>\n",
       "      <td>Despite Jamia Shooting, Amit Shah's Divisive R...</td>\n",
       "    </tr>\n",
       "    <tr>\n",
       "      <td>3</td>\n",
       "      <td>3</td>\n",
       "      <td>1.580480e+09</td>\n",
       "      <td>CAA-NRC</td>\n",
       "      <td>NaN</td>\n",
       "      <td>dark</td>\n",
       "      <td>16</td>\n",
       "      <td>8</td>\n",
       "      <td>Youth of India: Voices of Reason or Pawns[remo...</td>\n",
       "    </tr>\n",
       "    <tr>\n",
       "      <td>4</td>\n",
       "      <td>4</td>\n",
       "      <td>1.580486e+09</td>\n",
       "      <td>Non-Political</td>\n",
       "      <td>#5093d6</td>\n",
       "      <td>dark</td>\n",
       "      <td>6</td>\n",
       "      <td>13</td>\n",
       "      <td>Indian Student Variety AbroadSo, I am kinda fe...</td>\n",
       "    </tr>\n",
       "  </tbody>\n",
       "</table>\n",
       "</div>"
      ],
      "text/plain": [
       "   Unnamed: 0   created_utc                     flair flair_colour  \\\n",
       "0           0  1.580498e+09                | Repost |          NaN   \n",
       "1           1  1.580499e+09  | Low-effort Self Post |          NaN   \n",
       "2           2  1.580467e+09                  Politics      #ddbd37   \n",
       "3           3  1.580480e+09                   CAA-NRC          NaN   \n",
       "4           4  1.580486e+09             Non-Political      #5093d6   \n",
       "\n",
       "  flair_text_colour  num_comments  score  \\\n",
       "0              dark             1      0   \n",
       "1              dark             0      1   \n",
       "2              dark            12    140   \n",
       "3              dark            16      8   \n",
       "4              dark             6     13   \n",
       "\n",
       "                                                text  \n",
       "0  Economic Survey sources data from Wikipedia, o...  \n",
       "1              How do you explain \"vaali\" ?[removed]  \n",
       "2  Despite Jamia Shooting, Amit Shah's Divisive R...  \n",
       "3  Youth of India: Voices of Reason or Pawns[remo...  \n",
       "4  Indian Student Variety AbroadSo, I am kinda fe...  "
      ]
     },
     "execution_count": 3,
     "metadata": {},
     "output_type": "execute_result"
    }
   ],
   "source": [
    "data.head()"
   ]
  },
  {
   "cell_type": "code",
   "execution_count": 4,
   "metadata": {},
   "outputs": [
    {
     "data": {
      "text/plain": [
       "Index(['Unnamed: 0', 'created_utc', 'flair', 'flair_colour',\n",
       "       'flair_text_colour', 'num_comments', 'score', 'text'],\n",
       "      dtype='object')"
      ]
     },
     "execution_count": 4,
     "metadata": {},
     "output_type": "execute_result"
    }
   ],
   "source": [
    "data.columns"
   ]
  },
  {
   "cell_type": "code",
   "execution_count": 5,
   "metadata": {},
   "outputs": [],
   "source": [
    "data = data.drop('Unnamed: 0', axis = 1)"
   ]
  },
  {
   "cell_type": "code",
   "execution_count": 6,
   "metadata": {},
   "outputs": [
    {
     "data": {
      "text/plain": [
       "(55863, 7)"
      ]
     },
     "execution_count": 6,
     "metadata": {},
     "output_type": "execute_result"
    }
   ],
   "source": [
    "data.shape"
   ]
  },
  {
   "cell_type": "markdown",
   "metadata": {},
   "source": [
    "Data has many redundant rows. Let's clean them."
   ]
  },
  {
   "cell_type": "code",
   "execution_count": 7,
   "metadata": {},
   "outputs": [],
   "source": [
    "data = data.drop_duplicates()"
   ]
  },
  {
   "cell_type": "code",
   "execution_count": 8,
   "metadata": {},
   "outputs": [
    {
     "data": {
      "text/plain": [
       "(55856, 7)"
      ]
     },
     "execution_count": 8,
     "metadata": {},
     "output_type": "execute_result"
    }
   ],
   "source": [
    "data.shape"
   ]
  },
  {
   "cell_type": "code",
   "execution_count": 9,
   "metadata": {},
   "outputs": [],
   "source": [
    "import re\n",
    "from bs4 import BeautifulSoup\n",
    "from nltk.corpus import stopwords \n",
    "PLACE_BY_SPACE_RE = re.compile('[/(){}\\[\\]\\|@,;]')\n",
    "BAD_SYMBOLS_RE = re.compile('[^0-9a-z #+_]')\n",
    "STOPWORDS = set(stopwords.words('english'))\n",
    "\n",
    "\n",
    "def clean_text(text):\n",
    "    \"\"\"\n",
    "        text: a string\n",
    "        \n",
    "        return: modified initial string\n",
    "    \"\"\"\n",
    "#     text = BeautifulSoup(text, \"lxml\").text # HTML decoding\n",
    "    text = text.lower() # lowercase text\n",
    "    text = PLACE_BY_SPACE_RE.sub(' ', text) # replace REPLACE_BY_SPACE_RE symbols by space in text\n",
    "    text = BAD_SYMBOLS_RE.sub('', text) # delete symbols which are in BAD_SYMBOLS_RE from text\n",
    "    text = ' '.join(word for word in text.split() if word not in STOPWORDS) # delete stopwors from text\n",
    "    return text\n",
    "    \n",
    "data['text'] = data['text'].apply(clean_text)\n",
    "\n"
   ]
  },
  {
   "cell_type": "code",
   "execution_count": 10,
   "metadata": {},
   "outputs": [
    {
     "data": {
      "text/plain": [
       "(55856, 7)"
      ]
     },
     "execution_count": 10,
     "metadata": {},
     "output_type": "execute_result"
    }
   ],
   "source": [
    "data.shape"
   ]
  },
  {
   "cell_type": "code",
   "execution_count": 11,
   "metadata": {},
   "outputs": [
    {
     "data": {
      "text/html": [
       "<div>\n",
       "<style scoped>\n",
       "    .dataframe tbody tr th:only-of-type {\n",
       "        vertical-align: middle;\n",
       "    }\n",
       "\n",
       "    .dataframe tbody tr th {\n",
       "        vertical-align: top;\n",
       "    }\n",
       "\n",
       "    .dataframe thead th {\n",
       "        text-align: right;\n",
       "    }\n",
       "</style>\n",
       "<table border=\"1\" class=\"dataframe\">\n",
       "  <thead>\n",
       "    <tr style=\"text-align: right;\">\n",
       "      <th></th>\n",
       "      <th>created_utc</th>\n",
       "      <th>flair</th>\n",
       "      <th>flair_colour</th>\n",
       "      <th>flair_text_colour</th>\n",
       "      <th>num_comments</th>\n",
       "      <th>score</th>\n",
       "      <th>text</th>\n",
       "    </tr>\n",
       "  </thead>\n",
       "  <tbody>\n",
       "    <tr>\n",
       "      <td>0</td>\n",
       "      <td>1.580498e+09</td>\n",
       "      <td>| Repost |</td>\n",
       "      <td>NaN</td>\n",
       "      <td>dark</td>\n",
       "      <td>1</td>\n",
       "      <td>0</td>\n",
       "      <td>economic survey sources data wikipedia private...</td>\n",
       "    </tr>\n",
       "    <tr>\n",
       "      <td>1</td>\n",
       "      <td>1.580499e+09</td>\n",
       "      <td>| Low-effort Self Post |</td>\n",
       "      <td>NaN</td>\n",
       "      <td>dark</td>\n",
       "      <td>0</td>\n",
       "      <td>1</td>\n",
       "      <td>explain vaali removed</td>\n",
       "    </tr>\n",
       "    <tr>\n",
       "      <td>2</td>\n",
       "      <td>1.580467e+09</td>\n",
       "      <td>Politics</td>\n",
       "      <td>#ddbd37</td>\n",
       "      <td>dark</td>\n",
       "      <td>12</td>\n",
       "      <td>140</td>\n",
       "      <td>despite jamia shooting amit shahs divisive rhe...</td>\n",
       "    </tr>\n",
       "    <tr>\n",
       "      <td>3</td>\n",
       "      <td>1.580480e+09</td>\n",
       "      <td>CAA-NRC</td>\n",
       "      <td>NaN</td>\n",
       "      <td>dark</td>\n",
       "      <td>16</td>\n",
       "      <td>8</td>\n",
       "      <td>youth india voices reason pawns removed</td>\n",
       "    </tr>\n",
       "    <tr>\n",
       "      <td>4</td>\n",
       "      <td>1.580486e+09</td>\n",
       "      <td>Non-Political</td>\n",
       "      <td>#5093d6</td>\n",
       "      <td>dark</td>\n",
       "      <td>6</td>\n",
       "      <td>13</td>\n",
       "      <td>indian student variety abroadso kinda feeling ...</td>\n",
       "    </tr>\n",
       "  </tbody>\n",
       "</table>\n",
       "</div>"
      ],
      "text/plain": [
       "    created_utc                     flair flair_colour flair_text_colour  \\\n",
       "0  1.580498e+09                | Repost |          NaN              dark   \n",
       "1  1.580499e+09  | Low-effort Self Post |          NaN              dark   \n",
       "2  1.580467e+09                  Politics      #ddbd37              dark   \n",
       "3  1.580480e+09                   CAA-NRC          NaN              dark   \n",
       "4  1.580486e+09             Non-Political      #5093d6              dark   \n",
       "\n",
       "   num_comments  score                                               text  \n",
       "0             1      0  economic survey sources data wikipedia private...  \n",
       "1             0      1                              explain vaali removed  \n",
       "2            12    140  despite jamia shooting amit shahs divisive rhe...  \n",
       "3            16      8            youth india voices reason pawns removed  \n",
       "4             6     13  indian student variety abroadso kinda feeling ...  "
      ]
     },
     "execution_count": 11,
     "metadata": {},
     "output_type": "execute_result"
    }
   ],
   "source": [
    "data.head()"
   ]
  },
  {
   "cell_type": "code",
   "execution_count": 12,
   "metadata": {},
   "outputs": [
    {
     "data": {
      "text/plain": [
       "971169"
      ]
     },
     "execution_count": 12,
     "metadata": {},
     "output_type": "execute_result"
    }
   ],
   "source": [
    "data['text'].apply(lambda x: len(x.split(' '))).sum()"
   ]
  },
  {
   "cell_type": "code",
   "execution_count": 72,
   "metadata": {},
   "outputs": [],
   "source": [
    "rec = data['flair'].value_counts()"
   ]
  },
  {
   "cell_type": "code",
   "execution_count": 76,
   "metadata": {},
   "outputs": [
    {
     "data": {
      "text/plain": [
       "9529"
      ]
     },
     "execution_count": 76,
     "metadata": {},
     "output_type": "execute_result"
    }
   ],
   "source": [
    "rec"
   ]
  },
  {
   "cell_type": "code",
   "execution_count": 90,
   "metadata": {},
   "outputs": [],
   "source": [
    "flair = ['Coronavirus', 'Politics', 'Non-Political', 'AskIndia', 'Policy/Economy', 'Scheduled', 'Photography', 'Business/Finance', 'others', 'Unverified', 'Science/Technology', 'Food', 'CAA-NRC-NPR', 'Megathread', 'Meta.' ]"
   ]
  },
  {
   "cell_type": "code",
   "execution_count": 18,
   "metadata": {},
   "outputs": [],
   "source": [
    "data['flair'].fillna('Others',inplace = True)"
   ]
  },
  {
   "cell_type": "code",
   "execution_count": 15,
   "metadata": {},
   "outputs": [],
   "source": [
    "data['flair_colour'].fillna('Others',inplace = True)"
   ]
  },
  {
   "cell_type": "code",
   "execution_count": null,
   "metadata": {},
   "outputs": [],
   "source": []
  },
  {
   "cell_type": "code",
   "execution_count": null,
   "metadata": {},
   "outputs": [],
   "source": []
  },
  {
   "cell_type": "code",
   "execution_count": null,
   "metadata": {},
   "outputs": [],
   "source": []
  },
  {
   "cell_type": "code",
   "execution_count": null,
   "metadata": {},
   "outputs": [],
   "source": []
  },
  {
   "cell_type": "code",
   "execution_count": null,
   "metadata": {},
   "outputs": [],
   "source": []
  },
  {
   "cell_type": "code",
   "execution_count": null,
   "metadata": {},
   "outputs": [],
   "source": []
  },
  {
   "cell_type": "code",
   "execution_count": null,
   "metadata": {},
   "outputs": [],
   "source": []
  },
  {
   "cell_type": "code",
   "execution_count": null,
   "metadata": {},
   "outputs": [],
   "source": []
  },
  {
   "cell_type": "code",
   "execution_count": null,
   "metadata": {},
   "outputs": [],
   "source": []
  },
  {
   "cell_type": "code",
   "execution_count": null,
   "metadata": {},
   "outputs": [],
   "source": []
  },
  {
   "cell_type": "code",
   "execution_count": 88,
   "metadata": {
    "scrolled": true
   },
   "outputs": [
    {
     "data": {
      "text/plain": [
       "created_utc          0\n",
       "flair                0\n",
       "flair_colour         0\n",
       "flair_text_colour    0\n",
       "num_comments         0\n",
       "score                0\n",
       "text                 0\n",
       "dtype: int64"
      ]
     },
     "execution_count": 88,
     "metadata": {},
     "output_type": "execute_result"
    }
   ],
   "source": [
    "data.isnull().sum()"
   ]
  },
  {
   "cell_type": "code",
   "execution_count": 68,
   "metadata": {},
   "outputs": [],
   "source": [
    "from sklearn.model_selection import train_test_split\n",
    "X = data[['text', 'flair_colour', 'flair_text_colour']]\n",
    "y = data.flair\n",
    "X_train, X_test, y_train, y_test = train_test_split(X, y, test_size=0.4, random_state = 42)"
   ]
  },
  {
   "cell_type": "code",
   "execution_count": 92,
   "metadata": {},
   "outputs": [
    {
     "data": {
      "text/html": [
       "<div>\n",
       "<style scoped>\n",
       "    .dataframe tbody tr th:only-of-type {\n",
       "        vertical-align: middle;\n",
       "    }\n",
       "\n",
       "    .dataframe tbody tr th {\n",
       "        vertical-align: top;\n",
       "    }\n",
       "\n",
       "    .dataframe thead th {\n",
       "        text-align: right;\n",
       "    }\n",
       "</style>\n",
       "<table border=\"1\" class=\"dataframe\">\n",
       "  <thead>\n",
       "    <tr style=\"text-align: right;\">\n",
       "      <th></th>\n",
       "      <th>text</th>\n",
       "      <th>flair_colour</th>\n",
       "      <th>flair_text_colour</th>\n",
       "    </tr>\n",
       "  </thead>\n",
       "  <tbody>\n",
       "    <tr>\n",
       "      <td>0</td>\n",
       "      <td>economic survey sources data wikipedia private...</td>\n",
       "      <td>Others</td>\n",
       "      <td>dark</td>\n",
       "    </tr>\n",
       "    <tr>\n",
       "      <td>1</td>\n",
       "      <td>explain vaali removed</td>\n",
       "      <td>Others</td>\n",
       "      <td>dark</td>\n",
       "    </tr>\n",
       "    <tr>\n",
       "      <td>2</td>\n",
       "      <td>despite jamia shooting amit shahs divisive rhe...</td>\n",
       "      <td>#ddbd37</td>\n",
       "      <td>dark</td>\n",
       "    </tr>\n",
       "    <tr>\n",
       "      <td>3</td>\n",
       "      <td>youth india voices reason pawns removed</td>\n",
       "      <td>Others</td>\n",
       "      <td>dark</td>\n",
       "    </tr>\n",
       "    <tr>\n",
       "      <td>4</td>\n",
       "      <td>indian student variety abroadso kinda feeling ...</td>\n",
       "      <td>#5093d6</td>\n",
       "      <td>dark</td>\n",
       "    </tr>\n",
       "    <tr>\n",
       "      <td>...</td>\n",
       "      <td>...</td>\n",
       "      <td>...</td>\n",
       "      <td>...</td>\n",
       "    </tr>\n",
       "    <tr>\n",
       "      <td>55858</td>\n",
       "      <td>old ask boy surrender army man asks family kas...</td>\n",
       "      <td>#5093d6</td>\n",
       "      <td>dark</td>\n",
       "    </tr>\n",
       "    <tr>\n",
       "      <td>55859</td>\n",
       "      <td>youre thoughts ayodhya verdict removed</td>\n",
       "      <td>Others</td>\n",
       "      <td>dark</td>\n",
       "    </tr>\n",
       "    <tr>\n",
       "      <td>55860</td>\n",
       "      <td>spitfire x gangs wasseypur</td>\n",
       "      <td>#5093d6</td>\n",
       "      <td>dark</td>\n",
       "    </tr>\n",
       "    <tr>\n",
       "      <td>55861</td>\n",
       "      <td>ayodhya verdict historic supreme court verdict...</td>\n",
       "      <td>#ddbd37</td>\n",
       "      <td>dark</td>\n",
       "    </tr>\n",
       "    <tr>\n",
       "      <td>55862</td>\n",
       "      <td>news bala box office collection day 1 india to...</td>\n",
       "      <td>Others</td>\n",
       "      <td>dark</td>\n",
       "    </tr>\n",
       "  </tbody>\n",
       "</table>\n",
       "<p>55856 rows × 3 columns</p>\n",
       "</div>"
      ],
      "text/plain": [
       "                                                    text flair_colour  \\\n",
       "0      economic survey sources data wikipedia private...       Others   \n",
       "1                                  explain vaali removed       Others   \n",
       "2      despite jamia shooting amit shahs divisive rhe...      #ddbd37   \n",
       "3                youth india voices reason pawns removed       Others   \n",
       "4      indian student variety abroadso kinda feeling ...      #5093d6   \n",
       "...                                                  ...          ...   \n",
       "55858  old ask boy surrender army man asks family kas...      #5093d6   \n",
       "55859             youre thoughts ayodhya verdict removed       Others   \n",
       "55860                         spitfire x gangs wasseypur      #5093d6   \n",
       "55861  ayodhya verdict historic supreme court verdict...      #ddbd37   \n",
       "55862  news bala box office collection day 1 india to...       Others   \n",
       "\n",
       "      flair_text_colour  \n",
       "0                  dark  \n",
       "1                  dark  \n",
       "2                  dark  \n",
       "3                  dark  \n",
       "4                  dark  \n",
       "...                 ...  \n",
       "55858              dark  \n",
       "55859              dark  \n",
       "55860              dark  \n",
       "55861              dark  \n",
       "55862              dark  \n",
       "\n",
       "[55856 rows x 3 columns]"
      ]
     },
     "execution_count": 92,
     "metadata": {},
     "output_type": "execute_result"
    }
   ],
   "source": [
    "X"
   ]
  },
  {
   "cell_type": "code",
   "execution_count": 94,
   "metadata": {
    "scrolled": true
   },
   "outputs": [],
   "source": [
    "train = X['text'] +\" \"+ X['flair_colour'] +\" \"+ X['flair_text_colour']\n",
    "# X_test = X_test['text'] + \" \" + X_test['flair_colour']+\" \"+ X_test['flair_text_colour']"
   ]
  },
  {
   "cell_type": "code",
   "execution_count": 70,
   "metadata": {},
   "outputs": [
    {
     "data": {
      "text/plain": [
       "'first go single indian muslim deported says shahnawaz hussain #ddbd37 dark'"
      ]
     },
     "execution_count": 70,
     "metadata": {},
     "output_type": "execute_result"
    }
   ],
   "source": [
    "X_train[1001]"
   ]
  },
  {
   "cell_type": "code",
   "execution_count": 96,
   "metadata": {
    "scrolled": false
   },
   "outputs": [
    {
     "data": {
      "text/plain": [
       "Pipeline(memory=None,\n",
       "         steps=[('vect',\n",
       "                 CountVectorizer(analyzer='word', binary=False,\n",
       "                                 decode_error='strict',\n",
       "                                 dtype=<class 'numpy.int64'>, encoding='utf-8',\n",
       "                                 input='content', lowercase=True, max_df=1.0,\n",
       "                                 max_features=None, min_df=1,\n",
       "                                 ngram_range=(1, 1), preprocessor=None,\n",
       "                                 stop_words=None, strip_accents=None,\n",
       "                                 token_pattern='(?u)\\\\b\\\\w\\\\w+\\\\b',\n",
       "                                 tokenizer=None, vocabulary=Non...\n",
       "                ('clf',\n",
       "                 SGDClassifier(alpha=0.001, average=False, class_weight=None,\n",
       "                               early_stopping=False, epsilon=0.1, eta0=0.0,\n",
       "                               fit_intercept=True, l1_ratio=0.15,\n",
       "                               learning_rate='optimal', loss='hinge',\n",
       "                               max_iter=5, n_iter_no_change=5, n_jobs=None,\n",
       "                               penalty='l2', power_t=0.5, random_state=42,\n",
       "                               shuffle=True, tol=None, validation_fraction=0.1,\n",
       "                               verbose=0, warm_start=False))],\n",
       "         verbose=False)"
      ]
     },
     "execution_count": 96,
     "metadata": {},
     "output_type": "execute_result"
    }
   ],
   "source": [
    "from sklearn.linear_model import SGDClassifier\n",
    "from sklearn.pipeline import Pipeline\n",
    "from sklearn.feature_extraction.text import CountVectorizer\n",
    "from sklearn.feature_extraction.text import TfidfTransformer\n",
    "from sklearn.metrics import accuracy_score,classification_report\n",
    "\n",
    "sgd = Pipeline([('vect', CountVectorizer()),\n",
    "                ('tfidf', TfidfTransformer()),\n",
    "                ('clf', SGDClassifier(loss='hinge', penalty='l2',alpha=1e-3, random_state=42, max_iter=5, tol=None)),\n",
    "               ])\n",
    "sgd.fit(train, y)\n",
    "\n",
    "# %%time\n",
    "\n",
    "# y_pred = sgd.predict(X_test)\n",
    "\n",
    "# print('accuracy %s' % accuracy_score(y_pred, y_test))\n",
    "# print(classification_report(y_test, y_pred))"
   ]
  },
  {
   "cell_type": "code",
   "execution_count": 79,
   "metadata": {},
   "outputs": [],
   "source": [
    "import pickle"
   ]
  },
  {
   "cell_type": "code",
   "execution_count": 81,
   "metadata": {},
   "outputs": [],
   "source": [
    "saved_model = pickle.dumps(sgd)"
   ]
  },
  {
   "cell_type": "code",
   "execution_count": 85,
   "metadata": {},
   "outputs": [],
   "source": [
    "import joblib "
   ]
  },
  {
   "cell_type": "code",
   "execution_count": 97,
   "metadata": {},
   "outputs": [
    {
     "data": {
      "text/plain": [
       "['MODEL_1_DEMO.pkl']"
      ]
     },
     "execution_count": 97,
     "metadata": {},
     "output_type": "execute_result"
    }
   ],
   "source": [
    "joblib.dump(sgd, 'MODEL_1_DEMO.pkl') "
   ]
  },
  {
   "cell_type": "code",
   "execution_count": 84,
   "metadata": {},
   "outputs": [
    {
     "name": "stdout",
     "output_type": "stream",
     "text": [
      "DataAccumulation_Pre_CleaningData.ipynb\r\n",
      "ExperimentDetails.ipynb\r\n",
      "FeatureCleaningAndModels.ipynb\r\n",
      "MODEL_1_DEMO.pkl\r\n",
      "\u001b[34mNEW_DATA\u001b[m\u001b[m/\r\n",
      "\u001b[34mOLD_DATA\u001b[m\u001b[m/\r\n",
      "ScrapperPraw.ipynb\r\n",
      "ScrapperScript.ipynb\r\n",
      "Untitled1.ipynb\r\n",
      "reddit-data.json\r\n",
      "scrapper-parallel-1.ipynb\r\n",
      "scrapper-parallel-2.ipynb\r\n",
      "scrapper-parallel-3.ipynb\r\n",
      "srapper-parallel-4.ipynb\r\n"
     ]
    }
   ],
   "source": [
    "ls"
   ]
  },
  {
   "cell_type": "code",
   "execution_count": 86,
   "metadata": {},
   "outputs": [],
   "source": [
    "model = joblib.load('MODEL_1_DEMO.pkl')\n",
    "y_pred= model.predict(X_test)"
   ]
  },
  {
   "cell_type": "code",
   "execution_count": 87,
   "metadata": {},
   "outputs": [
    {
     "name": "stdout",
     "output_type": "stream",
     "text": [
      "accuracy 0.7423801638096943\n"
     ]
    }
   ],
   "source": [
    "print('accuracy %s' % accuracy_score(y_pred, y_test))"
   ]
  },
  {
   "cell_type": "code",
   "execution_count": null,
   "metadata": {},
   "outputs": [],
   "source": []
  }
 ],
 "metadata": {
  "kernelspec": {
   "display_name": "Python 3",
   "language": "python",
   "name": "python3"
  },
  "language_info": {
   "codemirror_mode": {
    "name": "ipython",
    "version": 3
   },
   "file_extension": ".py",
   "mimetype": "text/x-python",
   "name": "python",
   "nbconvert_exporter": "python",
   "pygments_lexer": "ipython3",
   "version": "3.7.4"
  }
 },
 "nbformat": 4,
 "nbformat_minor": 2
}
